{
 "cells": [
  {
   "cell_type": "markdown",
   "id": "5b16d37f-7584-445c-a7cc-a1e2cf2d9f1c",
   "metadata": {},
   "source": [
    "Author: Dipesh Poudel\n",
    "\n",
    "Roll No: 10"
   ]
  },
  {
   "cell_type": "markdown",
   "id": "f5f038a9-a312-4876-bcd5-a11b6ab76a75",
   "metadata": {},
   "source": [
    "# Programming Exercises"
   ]
  },
  {
   "cell_type": "markdown",
   "id": "5741b0a6-af67-42bc-888b-eb2b32629dfd",
   "metadata": {
    "tags": []
   },
   "source": [
    "1. Write a program display “Hello World!”."
   ]
  },
  {
   "cell_type": "code",
   "execution_count": 1,
   "id": "ae11ae9f-6fe8-40da-a5b3-88c8e05f9cd9",
   "metadata": {},
   "outputs": [
    {
     "name": "stdout",
     "output_type": "stream",
     "text": [
      "Hello World!\n"
     ]
    }
   ],
   "source": [
    "print(\"Hello World!\")"
   ]
  },
  {
   "cell_type": "markdown",
   "id": "620d3746-7e55-4e44-9143-7554810129a9",
   "metadata": {},
   "source": [
    "2. Write a program to find sum of two numbers. Use input() function to take input from the user."
   ]
  },
  {
   "cell_type": "code",
   "execution_count": 2,
   "id": "602c2cbc-1b23-4047-81ca-e1f21d60eb75",
   "metadata": {},
   "outputs": [
    {
     "name": "stdout",
     "output_type": "stream",
     "text": [
      "Enter First Number: 10\n",
      "Enter First Number: 20\n",
      "The sum of 10 and 20 is 30\n"
     ]
    }
   ],
   "source": [
    "num_1 = int(input(\"Enter First Number: \"))\n",
    "num_2 = int(input(\"Enter First Number: \"))\n",
    "print(f\"The sum of {num_1} and {num_2} is {num_1+num_2}\")"
   ]
  },
  {
   "cell_type": "markdown",
   "id": "7053fd9d",
   "metadata": {},
   "source": [
    "3. Write a program to calculate discount on the basis of following assumption:\n",
    "\n",
    "    a) If purchased amount is greater than or equal to 1000, discount is 5%"
   ]
  },
  {
   "cell_type": "code",
   "execution_count": 3,
   "id": "05dbb4e8",
   "metadata": {},
   "outputs": [
    {
     "name": "stdout",
     "output_type": "stream",
     "text": [
      "Enter the purchase amount: 2500\n",
      "Discounted Amount is 125.0.\n",
      "Amount to be paid is 2375.0\n"
     ]
    }
   ],
   "source": [
    "discount = 0.0\n",
    "purchased_amount = float(input(\"Enter the purchase amount: \"))\n",
    "if purchased_amount>=1000:\n",
    "    discount = purchased_amount*0.05\n",
    "print(f\"Discounted Amount is {discount}.\\nAmount to be paid is {purchased_amount-discount}\")"
   ]
  },
  {
   "cell_type": "markdown",
   "id": "eca12582",
   "metadata": {},
   "source": [
    "4. Write a program to calculate discount on the basis of following assumption:\n",
    "\n",
    "    a) If purchased amount is greater than or equal to 1000, discount is 5%\n",
    "\n",
    "    b) If purchased amount is less than 1000, discount is 3%"
   ]
  },
  {
   "cell_type": "code",
   "execution_count": 4,
   "id": "55c52c22",
   "metadata": {},
   "outputs": [
    {
     "name": "stdout",
     "output_type": "stream",
     "text": [
      "Enter the purchase amount: 3500\n",
      "Discounted Amount is 175.0.\n",
      "Amount to be paid is 3325.0\n"
     ]
    }
   ],
   "source": [
    "discount = 0.0\n",
    "purchased_amount = float(input(\"Enter the purchase amount: \"))\n",
    "if purchased_amount>=1000:\n",
    "    discount = purchased_amount*0.05\n",
    "else:\n",
    "    discount = purchased_amount*0.03\n",
    "print(f\"Discounted Amount is {discount}.\\nAmount to be paid is {purchased_amount-discount}\")"
   ]
  },
  {
   "cell_type": "markdown",
   "id": "2c320b78",
   "metadata": {},
   "source": [
    "5. Write a program to calculate discount on the basis of following assumption:\n",
    "    \n",
    "    a) If purchased amount is greater than or equal to 5000, discount is 10%\n",
    "    \n",
    "    b) If purchased amount is greater than or equal to 4000 and less than 5000, discount is 7%\n",
    "    \n",
    "    c) If purchased amount is greater than or equal to 3000 and less than 4000, discount is 5%\n",
    "    \n",
    "    d) If purchased amount is greater than or equal to 2000 and less than 3000, discount is 3%\n",
    "    \n",
    "    e) If purchased amount is less than 2000, discount is 2%"
   ]
  },
  {
   "cell_type": "code",
   "execution_count": 5,
   "id": "d3b3a490",
   "metadata": {},
   "outputs": [
    {
     "name": "stdout",
     "output_type": "stream",
     "text": [
      "Enter the purchase amount: 250000\n",
      "Discounted Amount is 25000.0.\n",
      "Amount to be paid is 225000.0\n"
     ]
    }
   ],
   "source": [
    "discount = 0.0\n",
    "purchased_amount = float(input(\"Enter the purchase amount: \"))\n",
    "if purchased_amount>=5000:\n",
    "    discount = purchased_amount*0.1\n",
    "elif purchased_amount>=4000:\n",
    "    discount = purchased_amount*0.07\n",
    "elif purchased_amount>=3000:\n",
    "    discount = purchased_amount*0.05\n",
    "elif purchased_amount>=2000:\n",
    "    discount = purchased_amount*0.03\n",
    "else:\n",
    "    discount = purchased_amount*0.02\n",
    "print(f\"Discounted Amount is {discount}.\\nAmount to be paid is {purchased_amount-discount}\")"
   ]
  },
  {
   "cell_type": "markdown",
   "id": "b56d6844",
   "metadata": {},
   "source": [
    "6. Write a program to calculate the simple interest on the basis of following assumption:\n",
    "    \n",
    "    a) If balance is greater than 99999, interest is 7%\n",
    "    \n",
    "    b) If balance is greater than or equal to 50000 and less than 100000 interest is 5%\n",
    "    \n",
    "    c) If balance is less than 50000, interest is 3%"
   ]
  },
  {
   "cell_type": "code",
   "execution_count": 6,
   "id": "712c5552",
   "metadata": {},
   "outputs": [
    {
     "name": "stdout",
     "output_type": "stream",
     "text": [
      "Enter the balance: 250000\n",
      "The Interest Rate is 7%\n",
      "The Simple Interest is 17500.0\n"
     ]
    }
   ],
   "source": [
    "balance = float(input(\"Enter the balance: \"))\n",
    "if (balance>99999):\n",
    "    interest_rate = 7\n",
    "elif (balance>=50000):\n",
    "    interest_rate = 5\n",
    "else:\n",
    "    interest_rate = 3\n",
    "interest = (balance*interest_rate)/100\n",
    "print(f\"The Interest Rate is {interest_rate}%\\nThe Simple Interest is {interest}\")"
   ]
  },
  {
   "cell_type": "markdown",
   "id": "85a79e5a",
   "metadata": {},
   "source": [
    "7. Write a program to test whether a number is even or odd."
   ]
  },
  {
   "cell_type": "code",
   "execution_count": 7,
   "id": "35aeecf4",
   "metadata": {},
   "outputs": [
    {
     "name": "stdout",
     "output_type": "stream",
     "text": [
      "Enter a number: 25\n",
      "The given number 25 is odd\n"
     ]
    }
   ],
   "source": [
    "numb = int(input(\"Enter a number: \"))\n",
    "if numb%2==0:\n",
    "    print(f\"The given number {numb} is even\")\n",
    "else:\n",
    "    print(f\"The given number {numb} is odd\")"
   ]
  },
  {
   "cell_type": "markdown",
   "id": "50252276",
   "metadata": {},
   "source": [
    "10. Write a program to display “SMS, TU” 10 times."
   ]
  },
  {
   "cell_type": "code",
   "execution_count": 8,
   "id": "19d7c7cf",
   "metadata": {},
   "outputs": [
    {
     "name": "stdout",
     "output_type": "stream",
     "text": [
      "### Method 1 ###\n",
      "SMS,TU\n",
      "SMS,TU\n",
      "SMS,TU\n",
      "SMS,TU\n",
      "SMS,TU\n",
      "SMS,TU\n",
      "SMS,TU\n",
      "SMS,TU\n",
      "SMS,TU\n",
      "SMS,TU\n",
      "\n",
      "### Method 2 ###\n",
      "SMS, TU\n",
      "SMS, TU\n",
      "SMS, TU\n",
      "SMS, TU\n",
      "SMS, TU\n",
      "SMS, TU\n",
      "SMS, TU\n",
      "SMS, TU\n",
      "SMS, TU\n",
      "SMS, TU\n"
     ]
    }
   ],
   "source": [
    "# Method 1\n",
    "print(\"### Method 1 ###\")\n",
    "print(\"SMS,TU\\n\"*10)\n",
    "print(\"### Method 2 ###\")\n",
    "# Method 2\n",
    "for i in range(10):\n",
    "    print(\"SMS, TU\")"
   ]
  },
  {
   "cell_type": "markdown",
   "id": "b63940fc",
   "metadata": {},
   "source": [
    "11. Write a program to find sum and average of 10 numbers stored in a list."
   ]
  },
  {
   "cell_type": "code",
   "execution_count": 9,
   "id": "d216d825",
   "metadata": {},
   "outputs": [
    {
     "name": "stdout",
     "output_type": "stream",
     "text": [
      "The Sum of Numbers is the list is 55 and average is 5.5\n"
     ]
    }
   ],
   "source": [
    "num_list = [1,2,3,4,5,6,7,8,9,10]\n",
    "print(f\"The Sum of Numbers is the list is {sum(num_list)} and average is {sum(num_list)/len(num_list)}\")"
   ]
  },
  {
   "cell_type": "markdown",
   "id": "3c950e4d",
   "metadata": {},
   "source": [
    "12. Write a program to display prime numbers up to 100."
   ]
  },
  {
   "cell_type": "code",
   "execution_count": 10,
   "id": "059335d2",
   "metadata": {
    "scrolled": false
   },
   "outputs": [
    {
     "name": "stdout",
     "output_type": "stream",
     "text": [
      "2 3 5 7 11 13 17 19 23 29 31 37 41 43 47 53 59 61 67 71 73 79 83 89 97 "
     ]
    }
   ],
   "source": [
    "for number in range(1,101): \n",
    "    if number>1:\n",
    "        for i in range(2,number):\n",
    "            if(number%i)==0:\n",
    "                break\n",
    "        else:\n",
    "            print(f\"{number}\",end=\" \")"
   ]
  },
  {
   "cell_type": "markdown",
   "id": "cd106acd",
   "metadata": {},
   "source": [
    "13. Write a program to count number of vowels in a string."
   ]
  },
  {
   "cell_type": "code",
   "execution_count": 11,
   "id": "4bf9179d",
   "metadata": {},
   "outputs": [
    {
     "name": "stdout",
     "output_type": "stream",
     "text": [
      "Enter a string: \n",
      "The number of vowels in the given string is 0\n"
     ]
    }
   ],
   "source": [
    "vowel_count = 0\n",
    "text = str(input(\"Enter a string: \"))\n",
    "text = text.lower()\n",
    "vowels = 'aeiou'\n",
    "for char in text:\n",
    "    if (char in vowels):\n",
    "        vowel_count+=1\n",
    "print(f\"The number of vowels in the given string is {vowel_count}\")"
   ]
  },
  {
   "cell_type": "markdown",
   "id": "897527d8",
   "metadata": {},
   "source": [
    "14. Write a program to find smallest and largest number among 10 numbers stored in a list."
   ]
  },
  {
   "cell_type": "code",
   "execution_count": 12,
   "id": "386e69fe",
   "metadata": {},
   "outputs": [
    {
     "name": "stdout",
     "output_type": "stream",
     "text": [
      "The Smallest Number is List is 2 and Largest number is 15\n",
      "The Smallest Number is List is 2 and Largest number is 15\n"
     ]
    }
   ],
   "source": [
    "list1 = [2,3,4,7,8,9,10,8,9,15]\n",
    "list1.sort()\n",
    "print(f\"The Smallest Number is List is {list1[0]} and Largest number is {list1[-1]}\")\n",
    "\n",
    "## Alternative\n",
    "list1 = [2,3,4,7,8,9,10,8,9,15]\n",
    "print(f\"The Smallest Number is List is {min(list1)} and Largest number is {max(list1)}\")"
   ]
  },
  {
   "cell_type": "markdown",
   "id": "c9ebb133",
   "metadata": {},
   "source": [
    "15. Write a program to count even numbers and odd numbers stored in a list."
   ]
  },
  {
   "cell_type": "code",
   "execution_count": 13,
   "id": "743ad32c",
   "metadata": {},
   "outputs": [
    {
     "name": "stdout",
     "output_type": "stream",
     "text": [
      "Even Count = 5\n",
      "Odd Count = 5\n"
     ]
    }
   ],
   "source": [
    "list1 = [2,3,4,7,8,9,10,8,9,15]\n",
    "even_count = 0\n",
    "odd_count = 0\n",
    "for i in list1:\n",
    "    if i%2==0:\n",
    "        even_count=even_count+1\n",
    "    else:\n",
    "        odd_count=odd_count+1\n",
    "print(f\"Even Count = {even_count}\")\n",
    "print(f\"Odd Count = {odd_count}\")"
   ]
  },
  {
   "cell_type": "markdown",
   "id": "acec4e6a",
   "metadata": {},
   "source": [
    "16. Write a program to find sum of two matrices."
   ]
  },
  {
   "cell_type": "code",
   "execution_count": 14,
   "id": "cc5c53f7",
   "metadata": {},
   "outputs": [
    {
     "name": "stdout",
     "output_type": "stream",
     "text": [
      "[17, 15, 4]\n",
      "[11, 16, 6]\n",
      "[6, 10, 12]\n"
     ]
    }
   ],
   "source": [
    "X = [[12,7,3],[5,9,3],[2,5,3]]\n",
    "\n",
    "Y = [[5,8,1],[6,7,3],[4,5,9]]\n",
    "\n",
    "result = [[0,0,0],\n",
    "         [0,0,0],\n",
    "         [0,0,0]]\n",
    "for i in range(len(X)):\n",
    "    for j in range(len(X[0])):\n",
    "        result[i][j] = X[i][j] + Y[i][j]\n",
    "for r in result:\n",
    "    print(r)"
   ]
  },
  {
   "cell_type": "markdown",
   "id": "fddd3f1e",
   "metadata": {},
   "source": [
    "17. Write a program to find product of two matrices."
   ]
  },
  {
   "cell_type": "code",
   "execution_count": 15,
   "id": "05927ae0",
   "metadata": {},
   "outputs": [
    {
     "name": "stdout",
     "output_type": "stream",
     "text": [
      "[[26, 29, 40], [48, 88, 89], [105, 144, 173]]\n"
     ]
    }
   ],
   "source": [
    "A = [ [1, 2, 3],[6, 7, 4], [8, 10, 11] ]\n",
    "B = [[1, 5, 3],[2, 6, 5], [7, 4, 9] ]\n",
    "\n",
    "result=[ [0,0,0],[0,0,0],[0,0,0] ]\n",
    "#for rows\n",
    "for i in range(len(A)):\n",
    "    #for columns\n",
    "    for j in range(len(B[0])):\n",
    "        #for rows of matrix B\n",
    "        for k in range(len(B)):\n",
    "            result[i][j] += A[i][k] * B[k][j]\n",
    "print(result)"
   ]
  },
  {
   "cell_type": "markdown",
   "id": "f5f291c7",
   "metadata": {},
   "source": [
    "18. Write a program using function with return type to find sum of two numbers."
   ]
  },
  {
   "cell_type": "code",
   "execution_count": 16,
   "id": "5de23c73",
   "metadata": {},
   "outputs": [
    {
     "data": {
      "text/plain": [
       "6"
      ]
     },
     "execution_count": 16,
     "metadata": {},
     "output_type": "execute_result"
    }
   ],
   "source": [
    "def add_two_num(num1,num2):\n",
    "    return num1+num2\n",
    "add_two_num(2,4)"
   ]
  },
  {
   "cell_type": "markdown",
   "id": "c041f9ee",
   "metadata": {},
   "source": [
    "19. Write a program using recursive function to find factorial of a number."
   ]
  },
  {
   "cell_type": "code",
   "execution_count": 17,
   "id": "d94dfeb0",
   "metadata": {},
   "outputs": [
    {
     "data": {
      "text/plain": [
       "24"
      ]
     },
     "execution_count": 17,
     "metadata": {},
     "output_type": "execute_result"
    }
   ],
   "source": [
    "def num_factorial(num):\n",
    "    if num==0:\n",
    "        return 1\n",
    "    else:\n",
    "        return num*num_factorial(num-1)\n",
    "num_factorial(4)"
   ]
  },
  {
   "cell_type": "markdown",
   "id": "c160b3b7",
   "metadata": {},
   "source": [
    "20. Write a program using recursive function to find n th Fibonacci number."
   ]
  },
  {
   "cell_type": "code",
   "execution_count": 18,
   "id": "385f1d7d",
   "metadata": {},
   "outputs": [
    {
     "data": {
      "text/plain": [
       "8"
      ]
     },
     "execution_count": 18,
     "metadata": {},
     "output_type": "execute_result"
    }
   ],
   "source": [
    "def fib(num):\n",
    "    if (num<=1):\n",
    "        return num\n",
    "    else:\n",
    "        return fib(num-1)+fib((num-2))\n",
    "fib(6)"
   ]
  },
  {
   "cell_type": "markdown",
   "id": "04d080ad",
   "metadata": {},
   "source": [
    "21. Write a program to read from and write to files."
   ]
  },
  {
   "cell_type": "code",
   "execution_count": 19,
   "id": "1785afad",
   "metadata": {},
   "outputs": [],
   "source": [
    "# Writing to a file\n",
    "text = \"Hello World\"\n",
    "with open('example_file.txt','w') as f:\n",
    "    f.write(text)"
   ]
  },
  {
   "cell_type": "code",
   "execution_count": 20,
   "id": "8636777d",
   "metadata": {},
   "outputs": [
    {
     "name": "stdout",
     "output_type": "stream",
     "text": [
      "Hello World\n"
     ]
    }
   ],
   "source": [
    "# Reading from a file\n",
    "with open('example_file.txt','r') as f:\n",
    "    print(f.read())"
   ]
  },
  {
   "cell_type": "markdown",
   "id": "1067f1c4",
   "metadata": {},
   "source": [
    "22. Write a program to find sum and average of numbers stored in a file."
   ]
  },
  {
   "cell_type": "code",
   "execution_count": 21,
   "id": "4bc78997",
   "metadata": {},
   "outputs": [
    {
     "name": "stdout",
     "output_type": "stream",
     "text": [
      "The sum is 21 and average is 3.5\n"
     ]
    }
   ],
   "source": [
    "with open('numbers.txt','r') as f:\n",
    "    data = [int(x) for x in f.read().split()]\n",
    "print(f\"The sum is {sum(data)} and average is {sum(data)/len(data)}\")"
   ]
  },
  {
   "cell_type": "markdown",
   "id": "1b0e63c2",
   "metadata": {},
   "source": [
    "23. Write a program that reads data from a text file, counts number of vowels in it, and writes\n",
    "number of vowels in a separate text file."
   ]
  },
  {
   "cell_type": "code",
   "execution_count": 22,
   "id": "6652abe4",
   "metadata": {},
   "outputs": [
    {
     "name": "stdout",
     "output_type": "stream",
     "text": [
      "Vowel Count: 12\n"
     ]
    }
   ],
   "source": [
    "vowel_list = ['a','e','i','o','u']\n",
    "v_count = 0\n",
    "with open('vowel.txt','r') as f:\n",
    "    read_text = f.read()\n",
    "for ch in read_text:\n",
    "    if ch.lower() in vowel_list:\n",
    "        v_count=v_count+1\n",
    "print(\"Vowel Count: {}\".format(v_count))\n",
    "with open('vowel_count.txt','w') as f:\n",
    "    f.write(\"The total vowel count is {}\".format(v_count))"
   ]
  },
  {
   "cell_type": "markdown",
   "id": "25158257",
   "metadata": {},
   "source": [
    "24. Write a program that reads a CSV file with eight fields (SID, Name, and Marks in five subjects) and displays name and total marks obtained by each student."
   ]
  },
  {
   "cell_type": "code",
   "execution_count": 23,
   "id": "f925c28d",
   "metadata": {},
   "outputs": [
    {
     "name": "stdout",
     "output_type": "stream",
     "text": [
      "\n",
      "Name: 'Person 1' Total Marks: 270\n",
      "Name: 'Person 2' Total Marks: 320\n",
      "Name: 'Person 3' Total Marks: 270\n",
      "Name: 'Person 4' Total Marks: 340\n"
     ]
    }
   ],
   "source": [
    "import csv\n",
    "with open('marks.csv','r') as f:\n",
    "    reader = csv.reader(f)\n",
    "    line_count = 0\n",
    "    for row in reader:\n",
    "        if line_count==0:\n",
    "            print()\n",
    "        else:\n",
    "            print(f\"Name: {row[1]} Total Marks: {sum([int(x) for x in row[2:]])}\")\n",
    "        line_count=line_count+1"
   ]
  },
  {
   "cell_type": "markdown",
   "id": "6ef73a21",
   "metadata": {},
   "source": [
    "25. Create a class Circle containing radius as instance variable and two functions area() and circumference() to find area and circumference of circles respectively. Create at least two objects of the Circle class to test the program."
   ]
  },
  {
   "cell_type": "code",
   "execution_count": 24,
   "id": "0fa478c5",
   "metadata": {},
   "outputs": [],
   "source": [
    "from math import pi\n",
    "class Circle:\n",
    "    def __init__(self,radius):\n",
    "        self.radius=radius\n",
    "    def area(self):\n",
    "        return pi*(self.radius**2)\n",
    "    def circumference(self):\n",
    "        return 2*pi*self.radius"
   ]
  },
  {
   "cell_type": "code",
   "execution_count": 25,
   "id": "6efc0fb5",
   "metadata": {},
   "outputs": [
    {
     "name": "stdout",
     "output_type": "stream",
     "text": [
      "Area c1 = 78.53981633974483 and Circumference c1 = 31.41592653589793\n",
      "Area c2 = 314.1592653589793 and Circumference c2 = 62.83185307179586\n"
     ]
    }
   ],
   "source": [
    "c1 = Circle(5)\n",
    "c2 = Circle(10)\n",
    "print(f\"Area c1 = {c1.area()} and Circumference c1 = {c1.circumference()}\")\n",
    "print(f\"Area c2 = {c2.area()} and Circumference c2 = {c2.circumference()}\")"
   ]
  },
  {
   "cell_type": "markdown",
   "id": "ac931c24",
   "metadata": {},
   "source": [
    "26. Create a class Rectangle containing length and breadth as instance variables and two functions area() and perimeter() to find area and perimeter of rectangles respectively. Create at least two objects of the Rectangle class to test the program."
   ]
  },
  {
   "cell_type": "code",
   "execution_count": 26,
   "id": "ea614ec1",
   "metadata": {},
   "outputs": [],
   "source": [
    "class Rectangle:\n",
    "    def __init__(self,length,breadth):\n",
    "        self.length = length\n",
    "        self.breadth = breadth\n",
    "    def area(self):\n",
    "        return self.length*self.breadth\n",
    "    def perimeter(self):\n",
    "        return 2*(self.length+self.breadth)"
   ]
  },
  {
   "cell_type": "code",
   "execution_count": 27,
   "id": "bca4d6c7",
   "metadata": {},
   "outputs": [
    {
     "name": "stdout",
     "output_type": "stream",
     "text": [
      "Area r1 = 50 and Perimeter r1 = 30\n",
      "Area r2 = 15 and Perimeter r2 = 16\n"
     ]
    }
   ],
   "source": [
    "r1 = Rectangle(5,10)\n",
    "r2 = Rectangle(3,5)\n",
    "print(f\"Area r1 = {r1.area()} and Perimeter r1 = {r1.perimeter()}\")\n",
    "print(f\"Area r2 = {r2.area()} and Perimeter r2 = {r2.perimeter()}\")"
   ]
  },
  {
   "cell_type": "markdown",
   "id": "f257e0ab",
   "metadata": {},
   "source": [
    "27. Create a class Distance containing feet and inches as instance variables and two functions add() and compare() for adding and comparing two distance objects. Create two objects to add and compare the objects."
   ]
  },
  {
   "cell_type": "code",
   "execution_count": 28,
   "id": "d1a14d4a",
   "metadata": {},
   "outputs": [],
   "source": [
    "class Distance:\n",
    "    def __init__(self,feet,inches):\n",
    "        self.feet = feet\n",
    "        self.inches = inches\n",
    "    def add(self,d):\n",
    "        total_feet = self.feet+d.feet\n",
    "        total_inches = self.inches+d.inches\n",
    "        if total_inches>=12:\n",
    "            total_feet+=1\n",
    "            total_inches-=12\n",
    "        return total_feet,total_inches\n",
    "    def compare(self,d):\n",
    "        in_inch_self = self.feet*12+self.inches\n",
    "        in_inch_d = d.feet*12+d.inches\n",
    "        if (in_inch_self>in_inch_d):\n",
    "            print(\"D1 is Larger\")\n",
    "        elif(in_inch_self<in_inch_d):\n",
    "            print(\"D2 is Larger\")\n",
    "        else:\n",
    "            print(\"Both are Equal\")\n",
    "        def display(self):\n",
    "            print(f\"Feet = {self.feet} and Inches = {self.inches}\")"
   ]
  },
  {
   "cell_type": "code",
   "execution_count": 29,
   "id": "78108d10",
   "metadata": {},
   "outputs": [],
   "source": [
    "d1 = Distance(2,10)\n",
    "d2 = Distance(1,9)"
   ]
  },
  {
   "cell_type": "code",
   "execution_count": 30,
   "id": "4f650b93",
   "metadata": {},
   "outputs": [
    {
     "data": {
      "text/plain": [
       "(4, 7)"
      ]
     },
     "execution_count": 30,
     "metadata": {},
     "output_type": "execute_result"
    }
   ],
   "source": [
    "d1.add(d2)"
   ]
  },
  {
   "cell_type": "code",
   "execution_count": 31,
   "id": "817f2eb7",
   "metadata": {},
   "outputs": [
    {
     "name": "stdout",
     "output_type": "stream",
     "text": [
      "D1 is Larger\n"
     ]
    }
   ],
   "source": [
    "d1.compare(d2)"
   ]
  },
  {
   "cell_type": "markdown",
   "id": "7cdd42a2",
   "metadata": {},
   "source": [
    "28. Create a class Student with name, roll number, and marks in five subjects. Add two functions to calculate total and percentage of marks obtained. Use this class to find percentage and division of five students."
   ]
  },
  {
   "cell_type": "code",
   "execution_count": 32,
   "id": "d045ab3f",
   "metadata": {},
   "outputs": [],
   "source": [
    "class Student:\n",
    "    def __init__(self,name,roll,marks):\n",
    "        self.name=name\n",
    "        self.roll=roll\n",
    "        self.marks=marks\n",
    "    def calculate_total(self):\n",
    "        return sum(self.marks)\n",
    "    def calculate_percentage(self):\n",
    "        return (self.calculate_total()/500)*100\n",
    "    def get_division(self):\n",
    "        if self.calculate_percentage()>=80:\n",
    "            return 'Distinction'\n",
    "        elif self.calculate_percentage()>=60:\n",
    "            return 'First Division'\n",
    "        elif self.calculate_percentage()>=50:\n",
    "            return 'Second Division'\n",
    "        elif self.calculate_percentage()>=40:\n",
    "            return 'Third Division'\n",
    "        else:\n",
    "            return 'Fail'"
   ]
  },
  {
   "cell_type": "code",
   "execution_count": 33,
   "id": "049fea1e",
   "metadata": {},
   "outputs": [
    {
     "name": "stdout",
     "output_type": "stream",
     "text": [
      "\n",
      "Name: 'Person 1' Percentage: 54.0 Division: Second Division\n",
      "Name: 'Person 2' Percentage: 64.0 Division: First Division\n",
      "Name: 'Person 3' Percentage: 54.0 Division: Second Division\n",
      "Name: 'Person 4' Percentage: 68.0 Division: First Division\n"
     ]
    }
   ],
   "source": [
    "with open('marks.csv','r') as f:\n",
    "    reader = csv.reader(f)\n",
    "    line_count = 0\n",
    "    for row in reader:\n",
    "        if line_count==0:\n",
    "            print()\n",
    "        else:\n",
    "            s = Student(row[1],int(row[0]),[float(x) for x in row[2:]])\n",
    "            print(f\"Name: {s.name} Percentage: {s.calculate_percentage()} Division: {s.get_division()}\")\n",
    "        line_count=line_count+1"
   ]
  }
 ],
 "metadata": {
  "kernelspec": {
   "display_name": "Python 3 (ipykernel)",
   "language": "python",
   "name": "python3"
  },
  "language_info": {
   "codemirror_mode": {
    "name": "ipython",
    "version": 3
   },
   "file_extension": ".py",
   "mimetype": "text/x-python",
   "name": "python",
   "nbconvert_exporter": "python",
   "pygments_lexer": "ipython3",
   "version": "3.8.10"
  }
 },
 "nbformat": 4,
 "nbformat_minor": 5
}
