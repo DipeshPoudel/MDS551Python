{
 "cells": [
  {
   "cell_type": "markdown",
   "id": "5b16d37f-7584-445c-a7cc-a1e2cf2d9f1c",
   "metadata": {},
   "source": [
    "Author: Dipesh Poudel\n",
    "\n",
    "Roll No: 10"
   ]
  },
  {
   "cell_type": "markdown",
   "id": "f5f038a9-a312-4876-bcd5-a11b6ab76a75",
   "metadata": {},
   "source": [
    "# Programming Exercises"
   ]
  },
  {
   "cell_type": "markdown",
   "id": "5741b0a6-af67-42bc-888b-eb2b32629dfd",
   "metadata": {
    "tags": []
   },
   "source": [
    "1. Write a program display “Hello World!”."
   ]
  },
  {
   "cell_type": "code",
   "execution_count": 1,
   "id": "ae11ae9f-6fe8-40da-a5b3-88c8e05f9cd9",
   "metadata": {},
   "outputs": [
    {
     "name": "stdout",
     "output_type": "stream",
     "text": [
      "Hello World!\n"
     ]
    }
   ],
   "source": [
    "print(\"Hello World!\")"
   ]
  },
  {
   "cell_type": "markdown",
   "id": "620d3746-7e55-4e44-9143-7554810129a9",
   "metadata": {},
   "source": [
    "2. Write a program to find sum of two numbers. Use input() function to take input from the user."
   ]
  },
  {
   "cell_type": "code",
   "execution_count": 2,
   "id": "602c2cbc-1b23-4047-81ca-e1f21d60eb75",
   "metadata": {},
   "outputs": [
    {
     "name": "stdin",
     "output_type": "stream",
     "text": [
      "Enter First Number:  2\n",
      "Enter First Number:  4\n"
     ]
    },
    {
     "name": "stdout",
     "output_type": "stream",
     "text": [
      "The sum of 2 and 4 is 6\n"
     ]
    }
   ],
   "source": [
    "num_1 = int(input(\"Enter First Number: \"))\n",
    "num_2 = int(input(\"Enter First Number: \"))\n",
    "print(f\"The sum of {num_1} and {num_2} is {num_1+num_2}\")"
   ]
  },
  {
   "cell_type": "markdown",
   "id": "7053fd9d",
   "metadata": {},
   "source": [
    "3. Write a program to calculate discount on the basis of following assumption:\n",
    "\n",
    "    a) If purchased amount is greater than or equal to 1000, discount is 5%"
   ]
  },
  {
   "cell_type": "code",
   "execution_count": 5,
   "id": "05dbb4e8",
   "metadata": {},
   "outputs": [
    {
     "name": "stdout",
     "output_type": "stream",
     "text": [
      "Enter the purchase amount: 250\n",
      "Discounted Amount is 0.0.\n",
      "Amount to be paid is 250.0\n"
     ]
    }
   ],
   "source": [
    "discount = 0.0\n",
    "purchased_amount = float(input(\"Enter the purchase amount: \"))\n",
    "if purchased_amount>=1000:\n",
    "    discount = purchased_amount*0.05\n",
    "print(f\"Discounted Amount is {discount}.\\nAmount to be paid is {purchased_amount-discount}\")"
   ]
  },
  {
   "cell_type": "markdown",
   "id": "eca12582",
   "metadata": {},
   "source": [
    "4. Write a program to calculate discount on the basis of following assumption:\n",
    "\n",
    "    a) If purchased amount is greater than or equal to 1000, discount is 5%\n",
    "\n",
    "    b) If purchased amount is less than 1000, discount is 3%"
   ]
  },
  {
   "cell_type": "code",
   "execution_count": 4,
   "id": "55c52c22",
   "metadata": {},
   "outputs": [
    {
     "name": "stdout",
     "output_type": "stream",
     "text": [
      "Enter the purchase amount: 1500\n",
      "Discounted Amount is 75.0.\n",
      "Amount to be paid is 1425.0\n"
     ]
    }
   ],
   "source": [
    "discount = 0.0\n",
    "purchased_amount = float(input(\"Enter the purchase amount: \"))\n",
    "if purchased_amount>=1000:\n",
    "    discount = purchased_amount*0.05\n",
    "else:\n",
    "    discount = purchased_amount*0.03\n",
    "print(f\"Discounted Amount is {discount}.\\nAmount to be paid is {purchased_amount-discount}\")"
   ]
  },
  {
   "cell_type": "markdown",
   "id": "2c320b78",
   "metadata": {},
   "source": [
    "5. Write a program to calculate discount on the basis of following assumption:\n",
    "    \n",
    "    a) If purchased amount is greater than or equal to 5000, discount is 10%\n",
    "    \n",
    "    b) If purchased amount is greater than or equal to 4000 and less than 5000, discount is 7%\n",
    "    \n",
    "    c) If purchased amount is greater than or equal to 3000 and less than 4000, discount is 5%\n",
    "    \n",
    "    d) If purchased amount is greater than or equal to 2000 and less than 3000, discount is 3%\n",
    "    \n",
    "    e) If purchased amount is less than 2000, discount is 2%"
   ]
  },
  {
   "cell_type": "code",
   "execution_count": 6,
   "id": "d3b3a490",
   "metadata": {},
   "outputs": [
    {
     "name": "stdout",
     "output_type": "stream",
     "text": [
      "Enter the purchase amount: 500\n",
      "Discounted Amount is 10.0.\n",
      "Amount to be paid is 490.0\n"
     ]
    }
   ],
   "source": [
    "discount = 0.0\n",
    "purchased_amount = float(input(\"Enter the purchase amount: \"))\n",
    "if purchased_amount>=5000:\n",
    "    discount = purchased_amount*0.1\n",
    "elif purchased_amount>=4000:\n",
    "    discount = purchased_amount*0.07\n",
    "elif purchased_amount>=3000:\n",
    "    discount = purchased_amount*0.05\n",
    "elif purchased_amount>=2000:\n",
    "    discount = purchased_amount*0.03\n",
    "else:\n",
    "    discount = purchased_amount*0.02\n",
    "print(f\"Discounted Amount is {discount}.\\nAmount to be paid is {purchased_amount-discount}\")"
   ]
  },
  {
   "cell_type": "markdown",
   "id": "b56d6844",
   "metadata": {},
   "source": [
    "6. Write a program to calculate the simple interest on the basis of following assumption:\n",
    "    \n",
    "    a) If balance is greater than 99999, interest is 7%\n",
    "    \n",
    "    b) If balance is greater than or equal to 50000 and less than 100000 interest is 5%\n",
    "    \n",
    "    c) If balance is less than 50000, interest is 3%"
   ]
  },
  {
   "cell_type": "code",
   "execution_count": 8,
   "id": "712c5552",
   "metadata": {},
   "outputs": [
    {
     "name": "stdout",
     "output_type": "stream",
     "text": [
      "Enter the balance: 25000\n",
      "The Interest Rate is 3%\n",
      "The Simple Interest is 750.0\n"
     ]
    }
   ],
   "source": [
    "balance = float(input(\"Enter the balance: \"))\n",
    "if (balance>99999):\n",
    "    interest_rate = 7\n",
    "elif (balance>=50000):\n",
    "    interest_rate = 5\n",
    "else:\n",
    "    interest_rate = 3\n",
    "interest = (balance*interest_rate)/100\n",
    "print(f\"The Interest Rate is {interest_rate}%\\nThe Simple Interest is {interest}\")"
   ]
  },
  {
   "cell_type": "markdown",
   "id": "85a79e5a",
   "metadata": {},
   "source": [
    "7. Write a program to test whether a number is even or odd."
   ]
  },
  {
   "cell_type": "code",
   "execution_count": 11,
   "id": "35aeecf4",
   "metadata": {},
   "outputs": [
    {
     "name": "stdout",
     "output_type": "stream",
     "text": [
      "Enter a number: 10\n",
      "The given number 10 is even\n"
     ]
    }
   ],
   "source": [
    "numb = int(input(\"Enter a number: \"))\n",
    "if numb%2==0:\n",
    "    print(f\"The given number {numb} is even\")\n",
    "else:\n",
    "    print(f\"The given number {numb} is odd\")"
   ]
  },
  {
   "cell_type": "markdown",
   "id": "50252276",
   "metadata": {},
   "source": [
    "10. Write a program to display “SMS, TU” 10 times."
   ]
  },
  {
   "cell_type": "code",
   "execution_count": 17,
   "id": "19d7c7cf",
   "metadata": {},
   "outputs": [
    {
     "name": "stdout",
     "output_type": "stream",
     "text": [
      "### Method 1 ###\n",
      "SMS,TU\n",
      "SMS,TU\n",
      "SMS,TU\n",
      "SMS,TU\n",
      "SMS,TU\n",
      "SMS,TU\n",
      "SMS,TU\n",
      "SMS,TU\n",
      "SMS,TU\n",
      "SMS,TU\n",
      "\n",
      "### Method 2 ###\n",
      "SMS, TU\n",
      "SMS, TU\n",
      "SMS, TU\n",
      "SMS, TU\n",
      "SMS, TU\n",
      "SMS, TU\n",
      "SMS, TU\n",
      "SMS, TU\n",
      "SMS, TU\n",
      "SMS, TU\n"
     ]
    }
   ],
   "source": [
    "# Method 1\n",
    "print(\"### Method 1 ###\")\n",
    "print(\"SMS,TU\\n\"*10)\n",
    "print(\"### Method 2 ###\")\n",
    "# Method 2\n",
    "for i in range(10):\n",
    "    print(\"SMS, TU\")"
   ]
  },
  {
   "cell_type": "markdown",
   "id": "b63940fc",
   "metadata": {},
   "source": [
    "11. Write a program to find sum and average of 10 numbers stored in a list."
   ]
  },
  {
   "cell_type": "code",
   "execution_count": 18,
   "id": "d216d825",
   "metadata": {},
   "outputs": [
    {
     "name": "stdout",
     "output_type": "stream",
     "text": [
      "The Sum of Numbers is the list is 55 and average is 5.5\n"
     ]
    }
   ],
   "source": [
    "num_list = [1,2,3,4,5,6,7,8,9,10]\n",
    "print(f\"The Sum of Numbers is the list is {sum(num_list)} and average is {sum(num_list)/len(num_list)}\")"
   ]
  },
  {
   "cell_type": "markdown",
   "id": "3c950e4d",
   "metadata": {},
   "source": [
    "12. Write a program to display prime numbers up to 100."
   ]
  },
  {
   "cell_type": "code",
   "execution_count": 50,
   "id": "059335d2",
   "metadata": {
    "scrolled": false
   },
   "outputs": [
    {
     "name": "stdout",
     "output_type": "stream",
     "text": [
      "2 3 5 7 11 13 17 19 23 29 31 37 41 43 47 53 59 61 67 71 73 79 83 89 97 "
     ]
    }
   ],
   "source": [
    "for number in range(1,101): \n",
    "    if number>1:\n",
    "        for i in range(2,number):\n",
    "            if(number%i)==0:\n",
    "                break\n",
    "        else:\n",
    "            print(f\"{number}\",end=\" \")"
   ]
  },
  {
   "cell_type": "markdown",
   "id": "cd106acd",
   "metadata": {},
   "source": [
    "13. Write a program to count number of vowels in a string."
   ]
  },
  {
   "cell_type": "code",
   "execution_count": 56,
   "id": "4bf9179d",
   "metadata": {},
   "outputs": [
    {
     "name": "stdout",
     "output_type": "stream",
     "text": [
      "Enter a string: ball cat dog\n",
      "The number of vowels in the given string is 3\n"
     ]
    }
   ],
   "source": [
    "vowel_count = 0\n",
    "text = str(input(\"Enter a string: \"))\n",
    "text = text.lower()\n",
    "vowels = 'aeiou'\n",
    "for char in text:\n",
    "    if (char in vowels):\n",
    "        vowel_count+=1\n",
    "print(f\"The number of vowels in the given string is {vowel_count}\")"
   ]
  },
  {
   "cell_type": "code",
   "execution_count": null,
   "id": "e8a5a63e",
   "metadata": {},
   "outputs": [],
   "source": []
  }
 ],
 "metadata": {
  "kernelspec": {
   "display_name": "Python 3 (ipykernel)",
   "language": "python",
   "name": "python3"
  },
  "language_info": {
   "codemirror_mode": {
    "name": "ipython",
    "version": 3
   },
   "file_extension": ".py",
   "mimetype": "text/x-python",
   "name": "python",
   "nbconvert_exporter": "python",
   "pygments_lexer": "ipython3",
   "version": "3.8.10"
  }
 },
 "nbformat": 4,
 "nbformat_minor": 5
}
